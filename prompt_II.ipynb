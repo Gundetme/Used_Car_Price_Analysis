{
 "cells": [
  {
   "cell_type": "markdown",
   "metadata": {},
   "source": [
    "# What drives the price of a car?\n",
    "\n",
    "![](images/kurt.jpeg)"
   ]
  },
  {
   "cell_type": "markdown",
   "metadata": {},
   "source": [
    "**OVERVIEW**\n",
    "\n",
    "In this application, you will explore a dataset from kaggle. The original dataset contained information on 3 million used cars. The provided dataset contains information on 426K cars to ensure speed of processing.  Your goal is to understand what factors make a car more or less expensive.  As a result of your analysis, you should provide clear recommendations to your client -- a used car dealership -- as to what consumers value in a used car."
   ]
  },
  {
   "cell_type": "markdown",
   "metadata": {},
   "source": [
    "### CRISP-DM Framework\n",
    "\n",
    "<center>\n",
    "    <img src = images/crisp.png width = 50%/>\n",
    "</center>\n",
    "\n",
    "\n",
    "To frame the task, throughout our practical applications we will refer back to a standard process in industry for data projects called CRISP-DM.  This process provides a framework for working through a data problem.  Your first step in this application will be to read through a brief overview of CRISP-DM [here](https://mo-pcco.s3.us-east-1.amazonaws.com/BH-PCMLAI/module_11/readings_starter.zip).  After reading the overview, answer the questions below."
   ]
  },
  {
   "cell_type": "markdown",
   "metadata": {},
   "source": [
    "### Business Understanding\n",
    "\n",
    "From a business perspective, we are tasked with identifying key drivers for used car prices.  In the CRISP-DM overview, we are asked to convert this business framing to a data problem definition.  Using a few sentences, reframe the task as a data task with the appropriate technical vocabulary. "
   ]
  },
  {
   "cell_type": "markdown",
   "metadata": {},
   "source": [
    "### Answer \n",
    "**To reframe the task as a data task, we need to translate the business problem of identifying key drivers for used car prices into a data problem definition. The data problem definition can be formulated as follows:**\n",
    "\n",
    "**The goal of this data project is to analyze a dataset containing information on used cars and identify the variables that have the strongest impact on the prices of these cars. The key drivers of used car prices will be determined through exploratory data analysis, regression analysis, and feature selection techniques. The resulting insights will inform recommendations for the used car dealership on which factors to prioritize in their business strategy.**"
   ]
  },
  {
   "cell_type": "markdown",
   "metadata": {},
   "source": [
    "### Data Understanding\n",
    "\n",
    "After considering the business understanding, we want to get familiar with our data.  Write down some steps that you would take to get to know the dataset and identify any quality issues within.  Take time to get to know the dataset and explore what information it contains and how this could be used to inform your business understanding."
   ]
  },
  {
   "cell_type": "markdown",
   "metadata": {},
   "source": [
    "### here is a brief description of each column:\n",
    "\n",
    "**id:** unique identifier for each car listing.\n",
    "\n",
    "**region:** location of the car based on Craigslist region.\n",
    "\n",
    "**price:** the asking price for the car.\n",
    "\n",
    "**year:** the year the car was manufactured.\n",
    "\n",
    "**manufacturer:** the brand of the car's manufacturer.\n",
    "\n",
    "**model:** the model name or number of the car.\n",
    "\n",
    "**condition:** overall condition of the car, such as new, like new, excellent, good, fair, or salvage.\n",
    "\n",
    "**cylinders:** the number of cylinders in the car's engine.\n",
    "\n",
    "**fuel:** type of fuel the car uses, such as gas, diesel, hybrid, electric, or other.\n",
    "\n",
    "**odometer:** the number of miles the car has been driven.\n",
    "\n",
    "**title_status:** the status of the car's title, such as clean, salvage, rebuilt, or missing.\n",
    "\n",
    "**transmission:** type of transmission, such as automatic, manual, or other.\n",
    "\n",
    "**VIN:** Vehicle Identification Number, a unique code assigned to each car.\n",
    "\n",
    "**drive:** type of drive, such as 2-wheel drive, 4-wheel drive, or all-wheel drive.\n",
    "\n",
    "**size:** size of the car, such as compact, mid-size, full-size, or SUV.\n",
    "\n",
    "**type:** body type of the car, such as sedan, coupe, truck, van, or SUV.\n",
    "\n",
    "**paint_color:** the color of the car.\n",
    "\n",
    "**state:** state where the car is being sold.\n",
    "\n",
    "By understanding the columns and their descriptions, we can start exploring the dataset to gain more insights.\n",
    "\n",
    "\n",
    "**here are some steps that could be taken in the Data Understanding phase to get to know the dataset and identify any quality issues:**\n",
    "\n",
    "1. **Obtain the dataset: Obtain the dataset from the source, in this case from Kaggle, and ensure that it is in a format that can be easily loaded into a data analysis tool.**\n",
    "\n",
    "2. **Inspect the data: Inspect the dataset to get an initial sense of its size, structure, and variables. This could involve looking at the number of rows and columns, data types, and variable names.**\n",
    "\n",
    "3. **Explore variable distributions: Use summary statistics, histograms, and boxplots to explore the distributions of the variables in the dataset. This can help identify any outliers or skewed distributions that may affect the accuracy of any models developed.**\n",
    "\n",
    "4. **Identify missing values: Check for missing or null values in the dataset and consider how these values should be handled. Depending on the extent of the missing data, strategies such as imputation or exclusion of incomplete cases may be used.**\n",
    "\n",
    "5. **Check for duplicates: Check for any duplicate entries in the dataset, as these can distort the results of any analyses.**\n",
    "\n",
    "6. **Identify correlations: Examine correlations between variables in the dataset, as this can help to identify any potentially confounding variables or multicollinearity that may affect the accuracy of any regression analyses.**\n",
    "\n",
    "7. **Identify data quality issues: As you go through the above steps, note any data quality issues you observe in the dataset, such as inconsistencies in variable names, units, or measurement scales. These issues should be documented and addressed in the Data Preparation phase.**\n",
    "\n",
    "8. **By taking these steps in the Data Understanding phase, we can gain a deeper understanding of the data and identify any quality issues that need to be addressed before conducting further analyses. This will ensure that any findings from the data are reliable and accurate, and will help inform the subsequent phases of the CRISP-DM process.**"
   ]
  },
  {
   "cell_type": "code",
   "execution_count": 234,
   "metadata": {},
   "outputs": [],
   "source": [
    "# Import libraries\n",
    "import pandas as pd\n",
    "import numpy as np\n",
    "import matplotlib.pyplot as plt\n",
    "import seaborn as sns\n",
    "import warnings\n",
    "warnings.filterwarnings(\"ignore\")"
   ]
  },
  {
   "cell_type": "code",
   "execution_count": 235,
   "metadata": {},
   "outputs": [],
   "source": [
    "# Load the dataset\n",
    "data = pd.read_csv('data/vehicles.csv')"
   ]
  },
  {
   "cell_type": "code",
   "execution_count": 236,
   "metadata": {},
   "outputs": [
    {
     "data": {
      "text/html": [
       "<div>\n",
       "<style scoped>\n",
       "    .dataframe tbody tr th:only-of-type {\n",
       "        vertical-align: middle;\n",
       "    }\n",
       "\n",
       "    .dataframe tbody tr th {\n",
       "        vertical-align: top;\n",
       "    }\n",
       "\n",
       "    .dataframe thead th {\n",
       "        text-align: right;\n",
       "    }\n",
       "</style>\n",
       "<table border=\"1\" class=\"dataframe\">\n",
       "  <thead>\n",
       "    <tr style=\"text-align: right;\">\n",
       "      <th></th>\n",
       "      <th>id</th>\n",
       "      <th>region</th>\n",
       "      <th>price</th>\n",
       "      <th>year</th>\n",
       "      <th>manufacturer</th>\n",
       "      <th>model</th>\n",
       "      <th>condition</th>\n",
       "      <th>cylinders</th>\n",
       "      <th>fuel</th>\n",
       "      <th>odometer</th>\n",
       "      <th>title_status</th>\n",
       "      <th>transmission</th>\n",
       "      <th>VIN</th>\n",
       "      <th>drive</th>\n",
       "      <th>size</th>\n",
       "      <th>type</th>\n",
       "      <th>paint_color</th>\n",
       "      <th>state</th>\n",
       "    </tr>\n",
       "  </thead>\n",
       "  <tbody>\n",
       "    <tr>\n",
       "      <th>0</th>\n",
       "      <td>7222695916</td>\n",
       "      <td>prescott</td>\n",
       "      <td>6000</td>\n",
       "      <td>NaN</td>\n",
       "      <td>NaN</td>\n",
       "      <td>NaN</td>\n",
       "      <td>NaN</td>\n",
       "      <td>NaN</td>\n",
       "      <td>NaN</td>\n",
       "      <td>NaN</td>\n",
       "      <td>NaN</td>\n",
       "      <td>NaN</td>\n",
       "      <td>NaN</td>\n",
       "      <td>NaN</td>\n",
       "      <td>NaN</td>\n",
       "      <td>NaN</td>\n",
       "      <td>NaN</td>\n",
       "      <td>az</td>\n",
       "    </tr>\n",
       "    <tr>\n",
       "      <th>1</th>\n",
       "      <td>7218891961</td>\n",
       "      <td>fayetteville</td>\n",
       "      <td>11900</td>\n",
       "      <td>NaN</td>\n",
       "      <td>NaN</td>\n",
       "      <td>NaN</td>\n",
       "      <td>NaN</td>\n",
       "      <td>NaN</td>\n",
       "      <td>NaN</td>\n",
       "      <td>NaN</td>\n",
       "      <td>NaN</td>\n",
       "      <td>NaN</td>\n",
       "      <td>NaN</td>\n",
       "      <td>NaN</td>\n",
       "      <td>NaN</td>\n",
       "      <td>NaN</td>\n",
       "      <td>NaN</td>\n",
       "      <td>ar</td>\n",
       "    </tr>\n",
       "    <tr>\n",
       "      <th>2</th>\n",
       "      <td>7221797935</td>\n",
       "      <td>florida keys</td>\n",
       "      <td>21000</td>\n",
       "      <td>NaN</td>\n",
       "      <td>NaN</td>\n",
       "      <td>NaN</td>\n",
       "      <td>NaN</td>\n",
       "      <td>NaN</td>\n",
       "      <td>NaN</td>\n",
       "      <td>NaN</td>\n",
       "      <td>NaN</td>\n",
       "      <td>NaN</td>\n",
       "      <td>NaN</td>\n",
       "      <td>NaN</td>\n",
       "      <td>NaN</td>\n",
       "      <td>NaN</td>\n",
       "      <td>NaN</td>\n",
       "      <td>fl</td>\n",
       "    </tr>\n",
       "    <tr>\n",
       "      <th>3</th>\n",
       "      <td>7222270760</td>\n",
       "      <td>worcester / central MA</td>\n",
       "      <td>1500</td>\n",
       "      <td>NaN</td>\n",
       "      <td>NaN</td>\n",
       "      <td>NaN</td>\n",
       "      <td>NaN</td>\n",
       "      <td>NaN</td>\n",
       "      <td>NaN</td>\n",
       "      <td>NaN</td>\n",
       "      <td>NaN</td>\n",
       "      <td>NaN</td>\n",
       "      <td>NaN</td>\n",
       "      <td>NaN</td>\n",
       "      <td>NaN</td>\n",
       "      <td>NaN</td>\n",
       "      <td>NaN</td>\n",
       "      <td>ma</td>\n",
       "    </tr>\n",
       "    <tr>\n",
       "      <th>4</th>\n",
       "      <td>7210384030</td>\n",
       "      <td>greensboro</td>\n",
       "      <td>4900</td>\n",
       "      <td>NaN</td>\n",
       "      <td>NaN</td>\n",
       "      <td>NaN</td>\n",
       "      <td>NaN</td>\n",
       "      <td>NaN</td>\n",
       "      <td>NaN</td>\n",
       "      <td>NaN</td>\n",
       "      <td>NaN</td>\n",
       "      <td>NaN</td>\n",
       "      <td>NaN</td>\n",
       "      <td>NaN</td>\n",
       "      <td>NaN</td>\n",
       "      <td>NaN</td>\n",
       "      <td>NaN</td>\n",
       "      <td>nc</td>\n",
       "    </tr>\n",
       "  </tbody>\n",
       "</table>\n",
       "</div>"
      ],
      "text/plain": [
       "           id                  region  price  year manufacturer model  \\\n",
       "0  7222695916                prescott   6000   NaN          NaN   NaN   \n",
       "1  7218891961            fayetteville  11900   NaN          NaN   NaN   \n",
       "2  7221797935            florida keys  21000   NaN          NaN   NaN   \n",
       "3  7222270760  worcester / central MA   1500   NaN          NaN   NaN   \n",
       "4  7210384030              greensboro   4900   NaN          NaN   NaN   \n",
       "\n",
       "  condition cylinders fuel  odometer title_status transmission  VIN drive  \\\n",
       "0       NaN       NaN  NaN       NaN          NaN          NaN  NaN   NaN   \n",
       "1       NaN       NaN  NaN       NaN          NaN          NaN  NaN   NaN   \n",
       "2       NaN       NaN  NaN       NaN          NaN          NaN  NaN   NaN   \n",
       "3       NaN       NaN  NaN       NaN          NaN          NaN  NaN   NaN   \n",
       "4       NaN       NaN  NaN       NaN          NaN          NaN  NaN   NaN   \n",
       "\n",
       "  size type paint_color state  \n",
       "0  NaN  NaN         NaN    az  \n",
       "1  NaN  NaN         NaN    ar  \n",
       "2  NaN  NaN         NaN    fl  \n",
       "3  NaN  NaN         NaN    ma  \n",
       "4  NaN  NaN         NaN    nc  "
      ]
     },
     "execution_count": 236,
     "metadata": {},
     "output_type": "execute_result"
    }
   ],
   "source": [
    "# View the first few rows of the data\n",
    "data.head()"
   ]
  },
  {
   "cell_type": "code",
   "execution_count": 237,
   "metadata": {},
   "outputs": [
    {
     "name": "stdout",
     "output_type": "stream",
     "text": [
      "<class 'pandas.core.frame.DataFrame'>\n",
      "RangeIndex: 426880 entries, 0 to 426879\n",
      "Data columns (total 18 columns):\n",
      " #   Column        Non-Null Count   Dtype  \n",
      "---  ------        --------------   -----  \n",
      " 0   id            426880 non-null  int64  \n",
      " 1   region        426880 non-null  object \n",
      " 2   price         426880 non-null  int64  \n",
      " 3   year          425675 non-null  float64\n",
      " 4   manufacturer  409234 non-null  object \n",
      " 5   model         421603 non-null  object \n",
      " 6   condition     252776 non-null  object \n",
      " 7   cylinders     249202 non-null  object \n",
      " 8   fuel          423867 non-null  object \n",
      " 9   odometer      422480 non-null  float64\n",
      " 10  title_status  418638 non-null  object \n",
      " 11  transmission  424324 non-null  object \n",
      " 12  VIN           265838 non-null  object \n",
      " 13  drive         296313 non-null  object \n",
      " 14  size          120519 non-null  object \n",
      " 15  type          334022 non-null  object \n",
      " 16  paint_color   296677 non-null  object \n",
      " 17  state         426880 non-null  object \n",
      "dtypes: float64(2), int64(2), object(14)\n",
      "memory usage: 58.6+ MB\n"
     ]
    }
   ],
   "source": [
    "# Get basic information about the data\n",
    "data.info()"
   ]
  },
  {
   "cell_type": "code",
   "execution_count": 238,
   "metadata": {},
   "outputs": [
    {
     "name": "stdout",
     "output_type": "stream",
     "text": [
      "id                   0\n",
      "region               0\n",
      "price                0\n",
      "year              1205\n",
      "manufacturer     17646\n",
      "model             5277\n",
      "condition       174104\n",
      "cylinders       177678\n",
      "fuel              3013\n",
      "odometer          4400\n",
      "title_status      8242\n",
      "transmission      2556\n",
      "VIN             161042\n",
      "drive           130567\n",
      "size            306361\n",
      "type             92858\n",
      "paint_color     130203\n",
      "state                0\n",
      "dtype: int64\n"
     ]
    }
   ],
   "source": [
    "# Check for missing values\n",
    "print(data.isnull().sum())"
   ]
  },
  {
   "cell_type": "code",
   "execution_count": 239,
   "metadata": {},
   "outputs": [
    {
     "name": "stdout",
     "output_type": "stream",
     "text": [
      "0\n"
     ]
    }
   ],
   "source": [
    "# Check for duplicates\n",
    "print(data.duplicated().sum())"
   ]
  },
  {
   "cell_type": "code",
   "execution_count": 240,
   "metadata": {},
   "outputs": [
    {
     "name": "stdout",
     "output_type": "stream",
     "text": [
      "                 id         price           year      odometer\n",
      "count  4.268800e+05  4.268800e+05  425675.000000  4.224800e+05\n",
      "mean   7.311487e+09  7.519903e+04    2011.235191  9.804333e+04\n",
      "std    4.473170e+06  1.218228e+07       9.452120  2.138815e+05\n",
      "min    7.207408e+09  0.000000e+00    1900.000000  0.000000e+00\n",
      "25%    7.308143e+09  5.900000e+03    2008.000000  3.770400e+04\n",
      "50%    7.312621e+09  1.395000e+04    2013.000000  8.554800e+04\n",
      "75%    7.315254e+09  2.648575e+04    2017.000000  1.335425e+05\n",
      "max    7.317101e+09  3.736929e+09    2022.000000  1.000000e+07\n"
     ]
    }
   ],
   "source": [
    "# Summary statistics for numerical variables\n",
    "print(data.describe())"
   ]
  },
  {
   "cell_type": "code",
   "execution_count": 241,
   "metadata": {},
   "outputs": [
    {
     "data": {
      "text/plain": [
       "0.9983672226386806"
      ]
     },
     "execution_count": 241,
     "metadata": {},
     "output_type": "execute_result"
    }
   ],
   "source": [
    "len(data[data['price']<100000])/len(data)"
   ]
  },
  {
   "cell_type": "code",
   "execution_count": 242,
   "metadata": {},
   "outputs": [],
   "source": [
    "# Outlier removal\n",
    "data = data[data['price']<100000]\n",
    "data = data[data['price']>0]"
   ]
  },
  {
   "cell_type": "code",
   "execution_count": null,
   "metadata": {},
   "outputs": [],
   "source": []
  },
  {
   "cell_type": "code",
   "execution_count": 243,
   "metadata": {},
   "outputs": [
    {
     "data": {
      "image/png": "[encoded data removed]",
      "text/plain": [
       "<Figure size 432x288 with 1 Axes>"
      ]
     },
     "metadata": {
      "needs_background": "light"
     },
     "output_type": "display_data"
    }
   ],
   "source": [
    "# Histogram of prices\n",
    "plt.hist(data['price'])\n",
    "plt.show()"
   ]
  },
  {
   "cell_type": "markdown",
   "metadata": {},
   "source": [
    "## Observation. \n",
    "The dataset is left skewed, most of the cars are low priced, than 40,000 usd"
   ]
  },
  {
   "cell_type": "code",
   "execution_count": 244,
   "metadata": {},
   "outputs": [
    {
     "data": {
      "image/png": "[encoded data removed]",
      "text/plain": [
       "<Figure size 432x288 with 1 Axes>"
      ]
     },
     "metadata": {
      "needs_background": "light"
     },
     "output_type": "display_data"
    }
   ],
   "source": [
    "# Boxplot of prices by car brand\n",
    "plt.boxplot(data['price'], vert=False)\n",
    "plt.show()"
   ]
  },
  {
   "cell_type": "markdown",
   "metadata": {},
   "source": [
    "## Observation:\n",
    "boxplot shows most of the cars are less than 40,000 dollers, it is left skewed"
   ]
  },
  {
   "cell_type": "code",
   "execution_count": 245,
   "metadata": {},
   "outputs": [
    {
     "name": "stdout",
     "output_type": "stream",
     "text": [
      "                id     price      year  odometer\n",
      "id        1.000000 -0.075344 -0.063905  0.017060\n",
      "price    -0.075344  1.000000  0.345558 -0.173353\n",
      "year     -0.063905  0.345558  1.000000 -0.163718\n",
      "odometer  0.017060 -0.173353 -0.163718  1.000000\n"
     ]
    }
   ],
   "source": [
    "# Correlation matrix\n",
    "corr_matrix = data.corr()\n",
    "print(corr_matrix)"
   ]
  },
  {
   "cell_type": "markdown",
   "metadata": {},
   "source": [
    "##### Not so much correlation in this mattix"
   ]
  },
  {
   "cell_type": "markdown",
   "metadata": {},
   "source": [
    "### Data Preparation\n",
    "\n",
    "After our initial exploration and fine tuning of the business understanding, it is time to construct our final dataset prior to modeling.  Here, we want to make sure to handle any integrity issues and cleaning, the engineering of new features, any transformations that we believe should happen (scaling, logarithms, normalization, etc.), and general preparation for modeling with `sklearn`. "
   ]
  },
  {
   "cell_type": "markdown",
   "metadata": {},
   "source": [
    "**Here are some steps that can be taken in the Data Preparation phase to construct the final dataset:**\n",
    "\n",
    "1. Handle missing values: Depending on the extent of the missing data, we can either drop incomplete cases or impute missing values using strategies such as mean imputation, mode imputation, or regression imputation.\n",
    "2. Remove duplicates: Remove any duplicate entries in the dataset.\n",
    "3. Feature engineering: Create new features from the existing variables that may help to better predict the target variable, such as the age of the car or the average price of cars from the same brand.\n",
    "4. Transform variables: Apply transformations such as scaling, logarithms, or normalization to the variables in the dataset, as this can help improve the accuracy of any models developed.\n",
    "5. Encode categorical variables: Convert categorical variables into numerical variables that can be used in regression models using techniques such as one-hot encoding or label encoding.\n",
    "6. Remove irrelevant variables: Remove any variables that are not useful in predicting the target variable, as these can lead to overfitting of the models.\n",
    "7. Split the data into training and testing sets: Split the dataset into two parts, one for training the model and the other for testing the model's accuracy.\n",
    "8. Save the final dataset: Save the cleaned and preprocessed dataset to a new file for future use.\n",
    "\n",
    "\n",
    "Here is some example Python code that demonstrates some of the steps outlined in the Data Preparation phase:"
   ]
  },
  {
   "cell_type": "code",
   "execution_count": 246,
   "metadata": {},
   "outputs": [],
   "source": [
    "import pandas as pd\n",
    "from sklearn.preprocessing import StandardScaler, OneHotEncoder\n",
    "from sklearn.compose import ColumnTransformer\n",
    "from sklearn.model_selection import train_test_split"
   ]
  },
  {
   "cell_type": "markdown",
   "metadata": {},
   "source": [
    "**Cleaning and transforming data:** We need to check for any data integrity issues and clean the data by removing any duplicates, outliers, or irrelevant columns. We can also engineer new features from the existing columns, such as calculating the age of the car based on its manufacturing year and the current year. We can also transform some columns, such as scaling the odometer column or taking the logarithm of the price column to address skewness in the data."
   ]
  },
  {
   "cell_type": "code",
   "execution_count": 247,
   "metadata": {},
   "outputs": [],
   "source": [
    "# Drop irrelevant variables\n",
    "data.drop(['id', 'VIN'], axis=1, inplace=True)"
   ]
  },
  {
   "cell_type": "code",
   "execution_count": 248,
   "metadata": {},
   "outputs": [],
   "source": [
    "cols = data.columns[2:-1]"
   ]
  },
  {
   "cell_type": "code",
   "execution_count": 249,
   "metadata": {},
   "outputs": [
    {
     "data": {
      "text/plain": [
       "f-150                      7115\n",
       "silverado 1500             4546\n",
       "1500                       3800\n",
       "camry                      2827\n",
       "silverado                  2779\n",
       "                           ... \n",
       "avenger mainstreet heat       1\n",
       "silverado lt w/1lt 4wd        1\n",
       "silverado ltz 2500 hd         1\n",
       "sienna se 8 passenger         1\n",
       "Paige Glenbrook Touring       1\n",
       "Name: model, Length: 28120, dtype: int64"
      ]
     },
     "execution_count": 249,
     "metadata": {},
     "output_type": "execute_result"
    }
   ],
   "source": [
    "data['model'].value_counts()"
   ]
  },
  {
   "cell_type": "markdown",
   "metadata": {},
   "source": [
    "**Handling missing values:** We need to check for missing values in the dataset and decide on an appropriate strategy for handling them. Depending on the amount of missing values, we can choose to either drop the rows or impute the missing values with mean, median, or mode values."
   ]
  },
  {
   "cell_type": "code",
   "execution_count": 250,
   "metadata": {},
   "outputs": [],
   "source": [
    "# Impute missing values\n",
    "for col in cols:\n",
    "    if data[col].dtype == 'object':\n",
    "        data[col] = data[col].fillna(data[col].mode()[0])\n",
    "    else:\n",
    "        data[col] = data[col].fillna(data[col].mean())"
   ]
  },
  {
   "cell_type": "code",
   "execution_count": 251,
   "metadata": {},
   "outputs": [
    {
     "data": {
      "text/plain": [
       "region          0\n",
       "price           0\n",
       "year            0\n",
       "manufacturer    0\n",
       "model           0\n",
       "condition       0\n",
       "cylinders       0\n",
       "fuel            0\n",
       "odometer        0\n",
       "title_status    0\n",
       "transmission    0\n",
       "drive           0\n",
       "size            0\n",
       "type            0\n",
       "paint_color     0\n",
       "state           0\n",
       "dtype: int64"
      ]
     },
     "execution_count": 251,
     "metadata": {},
     "output_type": "execute_result"
    }
   ],
   "source": [
    "data.isna().sum()"
   ]
  },
  {
   "cell_type": "code",
   "execution_count": 252,
   "metadata": {},
   "outputs": [],
   "source": [
    "# Feature engineering\n",
    "data['age'] = 2023 - data['year']\n",
    "data['avg_brand_price'] = data.groupby('manufacturer')['price'].transform('mean')"
   ]
  },
  {
   "cell_type": "code",
   "execution_count": 253,
   "metadata": {},
   "outputs": [
    {
     "name": "stdout",
     "output_type": "stream",
     "text": [
      "<class 'pandas.core.frame.DataFrame'>\n",
      "Int64Index: 393288 entries, 0 to 426879\n",
      "Data columns (total 18 columns):\n",
      " #   Column           Non-Null Count   Dtype  \n",
      "---  ------           --------------   -----  \n",
      " 0   region           393288 non-null  object \n",
      " 1   price            393288 non-null  int64  \n",
      " 2   year             393288 non-null  float64\n",
      " 3   manufacturer     393288 non-null  object \n",
      " 4   model            393288 non-null  object \n",
      " 5   condition        393288 non-null  object \n",
      " 6   cylinders        393288 non-null  object \n",
      " 7   fuel             393288 non-null  object \n",
      " 8   odometer         393288 non-null  float64\n",
      " 9   title_status     393288 non-null  object \n",
      " 10  transmission     393288 non-null  object \n",
      " 11  drive            393288 non-null  object \n",
      " 12  size             393288 non-null  object \n",
      " 13  type             393288 non-null  object \n",
      " 14  paint_color      393288 non-null  object \n",
      " 15  state            393288 non-null  object \n",
      " 16  age              393288 non-null  float64\n",
      " 17  avg_brand_price  393288 non-null  float64\n",
      "dtypes: float64(4), int64(1), object(13)\n",
      "memory usage: 57.0+ MB\n"
     ]
    }
   ],
   "source": [
    "data.info()"
   ]
  },
  {
   "cell_type": "markdown",
   "metadata": {},
   "source": [
    "**Encoding categorical variables:** We need to encode categorical variables, such as manufacturer, model, condition, fuel, title_status, transmission, drive, size, type, and paint_color, using one-hot encoding or label encoding to convert them into numerical values that can be used by the machine learning algorithms.\n"
   ]
  },
  {
   "cell_type": "code",
   "execution_count": 254,
   "metadata": {},
   "outputs": [],
   "source": [
    "# Encode categorical variables\n",
    "from sklearn.preprocessing import LabelEncoder\n",
    "ct = LabelEncoder()\n",
    "for col in data.columns:\n",
    "    if data[col].dtype == 'object':\n",
    "        data[col] = ct.fit_transform(data[col])"
   ]
  },
  {
   "cell_type": "code",
   "execution_count": 255,
   "metadata": {
    "scrolled": true
   },
   "outputs": [
    {
     "data": {
      "text/html": [
       "<div>\n",
       "<style scoped>\n",
       "    .dataframe tbody tr th:only-of-type {\n",
       "        vertical-align: middle;\n",
       "    }\n",
       "\n",
       "    .dataframe tbody tr th {\n",
       "        vertical-align: top;\n",
       "    }\n",
       "\n",
       "    .dataframe thead th {\n",
       "        text-align: right;\n",
       "    }\n",
       "</style>\n",
       "<table border=\"1\" class=\"dataframe\">\n",
       "  <thead>\n",
       "    <tr style=\"text-align: right;\">\n",
       "      <th></th>\n",
       "      <th>region</th>\n",
       "      <th>price</th>\n",
       "      <th>year</th>\n",
       "      <th>manufacturer</th>\n",
       "      <th>model</th>\n",
       "      <th>condition</th>\n",
       "      <th>cylinders</th>\n",
       "      <th>fuel</th>\n",
       "      <th>odometer</th>\n",
       "      <th>title_status</th>\n",
       "      <th>transmission</th>\n",
       "      <th>drive</th>\n",
       "      <th>size</th>\n",
       "      <th>type</th>\n",
       "      <th>paint_color</th>\n",
       "      <th>state</th>\n",
       "      <th>age</th>\n",
       "      <th>avg_brand_price</th>\n",
       "    </tr>\n",
       "  </thead>\n",
       "  <tbody>\n",
       "    <tr>\n",
       "      <th>0</th>\n",
       "      <td>277</td>\n",
       "      <td>6000</td>\n",
       "      <td>2011.010293</td>\n",
       "      <td>13</td>\n",
       "      <td>13521</td>\n",
       "      <td>2</td>\n",
       "      <td>5</td>\n",
       "      <td>2</td>\n",
       "      <td>98786.92384</td>\n",
       "      <td>0</td>\n",
       "      <td>0</td>\n",
       "      <td>0</td>\n",
       "      <td>1</td>\n",
       "      <td>9</td>\n",
       "      <td>10</td>\n",
       "      <td>3</td>\n",
       "      <td>11.989707</td>\n",
       "      <td>20503.182126</td>\n",
       "    </tr>\n",
       "    <tr>\n",
       "      <th>1</th>\n",
       "      <td>105</td>\n",
       "      <td>11900</td>\n",
       "      <td>2011.010293</td>\n",
       "      <td>13</td>\n",
       "      <td>13521</td>\n",
       "      <td>2</td>\n",
       "      <td>5</td>\n",
       "      <td>2</td>\n",
       "      <td>98786.92384</td>\n",
       "      <td>0</td>\n",
       "      <td>0</td>\n",
       "      <td>0</td>\n",
       "      <td>1</td>\n",
       "      <td>9</td>\n",
       "      <td>10</td>\n",
       "      <td>2</td>\n",
       "      <td>11.989707</td>\n",
       "      <td>20503.182126</td>\n",
       "    </tr>\n",
       "    <tr>\n",
       "      <th>2</th>\n",
       "      <td>111</td>\n",
       "      <td>21000</td>\n",
       "      <td>2011.010293</td>\n",
       "      <td>13</td>\n",
       "      <td>13521</td>\n",
       "      <td>2</td>\n",
       "      <td>5</td>\n",
       "      <td>2</td>\n",
       "      <td>98786.92384</td>\n",
       "      <td>0</td>\n",
       "      <td>0</td>\n",
       "      <td>0</td>\n",
       "      <td>1</td>\n",
       "      <td>9</td>\n",
       "      <td>10</td>\n",
       "      <td>9</td>\n",
       "      <td>11.989707</td>\n",
       "      <td>20503.182126</td>\n",
       "    </tr>\n",
       "    <tr>\n",
       "      <th>3</th>\n",
       "      <td>396</td>\n",
       "      <td>1500</td>\n",
       "      <td>2011.010293</td>\n",
       "      <td>13</td>\n",
       "      <td>13521</td>\n",
       "      <td>2</td>\n",
       "      <td>5</td>\n",
       "      <td>2</td>\n",
       "      <td>98786.92384</td>\n",
       "      <td>0</td>\n",
       "      <td>0</td>\n",
       "      <td>0</td>\n",
       "      <td>1</td>\n",
       "      <td>9</td>\n",
       "      <td>10</td>\n",
       "      <td>19</td>\n",
       "      <td>11.989707</td>\n",
       "      <td>20503.182126</td>\n",
       "    </tr>\n",
       "    <tr>\n",
       "      <th>4</th>\n",
       "      <td>131</td>\n",
       "      <td>4900</td>\n",
       "      <td>2011.010293</td>\n",
       "      <td>13</td>\n",
       "      <td>13521</td>\n",
       "      <td>2</td>\n",
       "      <td>5</td>\n",
       "      <td>2</td>\n",
       "      <td>98786.92384</td>\n",
       "      <td>0</td>\n",
       "      <td>0</td>\n",
       "      <td>0</td>\n",
       "      <td>1</td>\n",
       "      <td>9</td>\n",
       "      <td>10</td>\n",
       "      <td>27</td>\n",
       "      <td>11.989707</td>\n",
       "      <td>20503.182126</td>\n",
       "    </tr>\n",
       "    <tr>\n",
       "      <th>...</th>\n",
       "      <td>...</td>\n",
       "      <td>...</td>\n",
       "      <td>...</td>\n",
       "      <td>...</td>\n",
       "      <td>...</td>\n",
       "      <td>...</td>\n",
       "      <td>...</td>\n",
       "      <td>...</td>\n",
       "      <td>...</td>\n",
       "      <td>...</td>\n",
       "      <td>...</td>\n",
       "      <td>...</td>\n",
       "      <td>...</td>\n",
       "      <td>...</td>\n",
       "      <td>...</td>\n",
       "      <td>...</td>\n",
       "      <td>...</td>\n",
       "      <td>...</td>\n",
       "    </tr>\n",
       "    <tr>\n",
       "      <th>426875</th>\n",
       "      <td>397</td>\n",
       "      <td>23590</td>\n",
       "      <td>2019.000000</td>\n",
       "      <td>31</td>\n",
       "      <td>18785</td>\n",
       "      <td>2</td>\n",
       "      <td>5</td>\n",
       "      <td>2</td>\n",
       "      <td>32226.00000</td>\n",
       "      <td>0</td>\n",
       "      <td>2</td>\n",
       "      <td>1</td>\n",
       "      <td>1</td>\n",
       "      <td>9</td>\n",
       "      <td>10</td>\n",
       "      <td>50</td>\n",
       "      <td>4.000000</td>\n",
       "      <td>12854.660744</td>\n",
       "    </tr>\n",
       "    <tr>\n",
       "      <th>426876</th>\n",
       "      <td>397</td>\n",
       "      <td>30590</td>\n",
       "      <td>2020.000000</td>\n",
       "      <td>41</td>\n",
       "      <td>22457</td>\n",
       "      <td>2</td>\n",
       "      <td>5</td>\n",
       "      <td>2</td>\n",
       "      <td>12029.00000</td>\n",
       "      <td>0</td>\n",
       "      <td>2</td>\n",
       "      <td>1</td>\n",
       "      <td>1</td>\n",
       "      <td>9</td>\n",
       "      <td>8</td>\n",
       "      <td>50</td>\n",
       "      <td>3.000000</td>\n",
       "      <td>18338.567460</td>\n",
       "    </tr>\n",
       "    <tr>\n",
       "      <th>426877</th>\n",
       "      <td>397</td>\n",
       "      <td>34990</td>\n",
       "      <td>2020.000000</td>\n",
       "      <td>6</td>\n",
       "      <td>27814</td>\n",
       "      <td>2</td>\n",
       "      <td>5</td>\n",
       "      <td>0</td>\n",
       "      <td>4174.00000</td>\n",
       "      <td>0</td>\n",
       "      <td>2</td>\n",
       "      <td>0</td>\n",
       "      <td>1</td>\n",
       "      <td>4</td>\n",
       "      <td>10</td>\n",
       "      <td>50</td>\n",
       "      <td>3.000000</td>\n",
       "      <td>20194.108828</td>\n",
       "    </tr>\n",
       "    <tr>\n",
       "      <th>426878</th>\n",
       "      <td>397</td>\n",
       "      <td>28990</td>\n",
       "      <td>2018.000000</td>\n",
       "      <td>23</td>\n",
       "      <td>12836</td>\n",
       "      <td>2</td>\n",
       "      <td>5</td>\n",
       "      <td>2</td>\n",
       "      <td>30112.00000</td>\n",
       "      <td>0</td>\n",
       "      <td>2</td>\n",
       "      <td>1</td>\n",
       "      <td>1</td>\n",
       "      <td>9</td>\n",
       "      <td>9</td>\n",
       "      <td>50</td>\n",
       "      <td>5.000000</td>\n",
       "      <td>20321.165784</td>\n",
       "    </tr>\n",
       "    <tr>\n",
       "      <th>426879</th>\n",
       "      <td>397</td>\n",
       "      <td>30590</td>\n",
       "      <td>2019.000000</td>\n",
       "      <td>4</td>\n",
       "      <td>2937</td>\n",
       "      <td>2</td>\n",
       "      <td>5</td>\n",
       "      <td>2</td>\n",
       "      <td>22716.00000</td>\n",
       "      <td>0</td>\n",
       "      <td>2</td>\n",
       "      <td>2</td>\n",
       "      <td>1</td>\n",
       "      <td>3</td>\n",
       "      <td>10</td>\n",
       "      <td>50</td>\n",
       "      <td>4.000000</td>\n",
       "      <td>20299.748872</td>\n",
       "    </tr>\n",
       "  </tbody>\n",
       "</table>\n",
       "<p>393288 rows × 18 columns</p>\n",
       "</div>"
      ],
      "text/plain": [
       "        region  price         year  manufacturer  model  condition  cylinders  \\\n",
       "0          277   6000  2011.010293            13  13521          2          5   \n",
       "1          105  11900  2011.010293            13  13521          2          5   \n",
       "2          111  21000  2011.010293            13  13521          2          5   \n",
       "3          396   1500  2011.010293            13  13521          2          5   \n",
       "4          131   4900  2011.010293            13  13521          2          5   \n",
       "...        ...    ...          ...           ...    ...        ...        ...   \n",
       "426875     397  23590  2019.000000            31  18785          2          5   \n",
       "426876     397  30590  2020.000000            41  22457          2          5   \n",
       "426877     397  34990  2020.000000             6  27814          2          5   \n",
       "426878     397  28990  2018.000000            23  12836          2          5   \n",
       "426879     397  30590  2019.000000             4   2937          2          5   \n",
       "\n",
       "        fuel     odometer  title_status  transmission  drive  size  type  \\\n",
       "0          2  98786.92384             0             0      0     1     9   \n",
       "1          2  98786.92384             0             0      0     1     9   \n",
       "2          2  98786.92384             0             0      0     1     9   \n",
       "3          2  98786.92384             0             0      0     1     9   \n",
       "4          2  98786.92384             0             0      0     1     9   \n",
       "...      ...          ...           ...           ...    ...   ...   ...   \n",
       "426875     2  32226.00000             0             2      1     1     9   \n",
       "426876     2  12029.00000             0             2      1     1     9   \n",
       "426877     0   4174.00000             0             2      0     1     4   \n",
       "426878     2  30112.00000             0             2      1     1     9   \n",
       "426879     2  22716.00000             0             2      2     1     3   \n",
       "\n",
       "        paint_color  state        age  avg_brand_price  \n",
       "0                10      3  11.989707     20503.182126  \n",
       "1                10      2  11.989707     20503.182126  \n",
       "2                10      9  11.989707     20503.182126  \n",
       "3                10     19  11.989707     20503.182126  \n",
       "4                10     27  11.989707     20503.182126  \n",
       "...             ...    ...        ...              ...  \n",
       "426875           10     50   4.000000     12854.660744  \n",
       "426876            8     50   3.000000     18338.567460  \n",
       "426877           10     50   3.000000     20194.108828  \n",
       "426878            9     50   5.000000     20321.165784  \n",
       "426879           10     50   4.000000     20299.748872  \n",
       "\n",
       "[393288 rows x 18 columns]"
      ]
     },
     "execution_count": 255,
     "metadata": {},
     "output_type": "execute_result"
    }
   ],
   "source": [
    "data"
   ]
  },
  {
   "cell_type": "markdown",
   "metadata": {},
   "source": [
    "**Scaling numeric features:** We need to scale the numeric features to ensure that they are on a similar scale and to prevent some features from having a stronger impact on the model than others. We can use StandardScaler or MinMaxScaler from scikit-learn to scale the numeric columns."
   ]
  },
  {
   "cell_type": "code",
   "execution_count": 256,
   "metadata": {},
   "outputs": [],
   "source": [
    "X = data.drop('price', axis = 1)\n",
    "y = data['price']"
   ]
  },
  {
   "cell_type": "code",
   "execution_count": 257,
   "metadata": {},
   "outputs": [],
   "source": [
    "# Transform variables\n",
    "scaler = StandardScaler()\n",
    "scaler.fit(X)\n",
    "X = scaler.transform(X)"
   ]
  },
  {
   "cell_type": "code",
   "execution_count": 258,
   "metadata": {},
   "outputs": [
    {
     "data": {
      "text/plain": [
       "array([[ 7.05677840e-01,  7.11108718e-14, -4.83285375e-01, ...,\n",
       "        -1.35825572e+00, -1.12962583e-14,  3.79480462e-01],\n",
       "       [-7.53417633e-01,  7.11108718e-14, -4.83285375e-01, ...,\n",
       "        -1.42427377e+00, -1.12962583e-14,  3.79480462e-01],\n",
       "       [-7.02518954e-01,  7.11108718e-14, -4.83285375e-01, ...,\n",
       "        -9.62147395e-01, -1.12962583e-14,  3.79480462e-01],\n",
       "       ...,\n",
       "       [ 1.72365143e+00,  9.37173740e-01, -1.08981688e+00, ...,\n",
       "         1.74459280e+00, -9.37173740e-01,  3.14099753e-01],\n",
       "       [ 1.72365143e+00,  7.28674458e-01,  3.83188209e-01, ...,\n",
       "         1.74459280e+00, -7.28674458e-01,  3.40977111e-01],\n",
       "       [ 1.72365143e+00,  8.32924099e-01, -1.26311160e+00, ...,\n",
       "         1.74459280e+00, -8.32924099e-01,  3.36446623e-01]])"
      ]
     },
     "execution_count": 258,
     "metadata": {},
     "output_type": "execute_result"
    }
   ],
   "source": [
    "X"
   ]
  },
  {
   "cell_type": "markdown",
   "metadata": {},
   "source": [
    "**Splitting data into training and testing sets:** We need to split the data into training and testing sets to evaluate the performance of the machine learning models. We can use train_test_split function from scikit-learn to split the data into 80% training set and 20% testing set."
   ]
  },
  {
   "cell_type": "code",
   "execution_count": 259,
   "metadata": {},
   "outputs": [],
   "source": [
    "\n",
    "# Split the data into training and testing sets\n",
    "X_train, X_test, y_train, y_test = train_test_split(X, y, test_size=0.2, random_state=42)"
   ]
  },
  {
   "cell_type": "markdown",
   "metadata": {},
   "source": [
    "### Modeling\n",
    "\n",
    "With your (almost?) final dataset in hand, it is now time to build some models.  Here, you should build a number of different regression models with the price as the target.  In building your models, you should explore different parameters and be sure to cross-validate your findings."
   ]
  },
  {
   "cell_type": "markdown",
   "metadata": {},
   "source": [
    "## Linear Regression:\n",
    "\n",
    "in this example, we first load the preprocessed data and select the relevant features and the target variable. We then create an instance of the LinearRegression class and fit the model on the data using the fit() method. Next, we get the coefficients of the model using the coef_ attribute and normalize them to get the relative importance of each feature. Finally, we print the feature importance. The output will show the importance of each feature relative to the others."
   ]
  },
  {
   "cell_type": "code",
   "execution_count": 260,
   "metadata": {},
   "outputs": [
    {
     "name": "stdout",
     "output_type": "stream",
     "text": [
      "Mean Squared Error:  143291344.2697297\n",
      "R-squared value:  0.3209131560717394\n"
     ]
    }
   ],
   "source": [
    "from sklearn.linear_model import LinearRegression\n",
    "from sklearn.model_selection import train_test_split\n",
    "from sklearn.metrics import mean_squared_error, r2_score\n",
    "import pandas as pd\n",
    "\n",
    "\n",
    "# Create the linear regression model\n",
    "lr_model = LinearRegression()\n",
    "\n",
    "# Fit the model on the training data\n",
    "lr_model.fit(X_train, y_train)\n",
    "\n",
    "# Make predictions on the testing data\n",
    "y_pred = lr_model.predict(X_test)\n",
    "\n",
    "# Evaluate the model\n",
    "mse = mean_squared_error(y_test, y_pred)\n",
    "r2 = r2_score(y_test, y_pred)\n",
    "\n",
    "print(\"Mean Squared Error: \", mse)\n",
    "print(\"R-squared value: \", r2)\n"
   ]
  },
  {
   "cell_type": "markdown",
   "metadata": {},
   "source": [
    "### Feature importance"
   ]
  },
  {
   "cell_type": "code",
   "execution_count": 267,
   "metadata": {},
   "outputs": [
    {
     "name": "stdout",
     "output_type": "stream",
     "text": [
      "region 5.764238616098996e-14\n",
      "year 0.4999999999974853\n",
      "manufacturer 6.309943974551727e-15\n",
      "model 2.1805527253163323e-13\n",
      "condition 3.8749685467270624e-13\n",
      "cylinders 1.2172710425906917e-12\n",
      "fuel 9.042290870208728e-13\n",
      "odometer 7.10288270007112e-13\n",
      "title_status 3.345731229431117e-13\n",
      "transmission 1.2362229403276564e-12\n",
      "drive 1.1104523470660512e-13\n",
      "size 8.581452685321857e-14\n",
      "type 8.135919968145674e-16\n",
      "paint_color 1.7606502984243636e-13\n",
      "state 3.224616278143485e-14\n",
      "age 0.49999999999540706\n",
      "avg_brand_price 1.6296318876271549e-12\n"
     ]
    }
   ],
   "source": [
    "# Create the linear regression model\n",
    "lr_model = LinearRegression()\n",
    "\n",
    "# Fit the model on the data\n",
    "lr_model.fit(X, y)\n",
    "\n",
    "# Get the feature importance\n",
    "coef = lr_model.coef_\n",
    "coef_norm = abs(coef) / abs(coef).sum()\n",
    "\n",
    "columns_ = list(data.columns)\n",
    "columns_.remove('price')\n",
    "# Print the feature importance\n",
    "for i, feature in enumerate(columns_):\n",
    "    print(feature, coef_norm[i])\n"
   ]
  },
  {
   "cell_type": "markdown",
   "metadata": {},
   "source": [
    "## Polynomial regression:\n",
    "\n",
    "In this example, we first load the preprocessed data and select the relevant features and the target variable. we create polynomial features using the PolynomialFeatures class and fit the model on the training set using the fit_transform() method. We transform the test set using the transform() method. Then, we fit a linear regression model on the polynomial features using the LinearRegression class and the fit() method. Finally, we predict on the test set using the predict() method and evaluate the model using the R^2 score, which measures how well the model fits the data. The output will show the R^2 score of the model."
   ]
  },
  {
   "cell_type": "code",
   "execution_count": 262,
   "metadata": {},
   "outputs": [
    {
     "name": "stdout",
     "output_type": "stream",
     "text": [
      "R^2 score: 0.5598711839687971\n"
     ]
    }
   ],
   "source": [
    "import pandas as pd\n",
    "from sklearn.preprocessing import PolynomialFeatures\n",
    "from sklearn.linear_model import LinearRegression\n",
    "from sklearn.model_selection import train_test_split\n",
    "from sklearn.metrics import r2_score\n",
    "\n",
    "# Create polynomial features\n",
    "poly = PolynomialFeatures(degree=2)\n",
    "X_train_poly = poly.fit_transform(X_train)\n",
    "X_test_poly = poly.transform(X_test)\n",
    "\n",
    "# Fit the linear regression model on the polynomial features\n",
    "lr_model = LinearRegression()\n",
    "lr_model.fit(X_train_poly, y_train)\n",
    "\n",
    "# Predict on the test set and evaluate the model\n",
    "y_pred = lr_model.predict(X_test_poly)\n",
    "r2 = r2_score(y_test, y_pred)\n",
    "print('R^2 score:', r2)\n"
   ]
  },
  {
   "cell_type": "code",
   "execution_count": null,
   "metadata": {},
   "outputs": [],
   "source": []
  },
  {
   "cell_type": "markdown",
   "metadata": {},
   "source": [
    "## Multiple Models\n",
    "\n",
    "In this example, we first load the preprocessed data and select the relevant features and the target variable. We then split the data into training and testing sets using the train_test_split() function. Next, we fit five regression models on the training set and evaluate them on the test set using the R^2 score. The models we use are:\n",
    "\n",
    "1. Linear Regression\n",
    "2. Ridge Regression\n",
    "3. Lasso Regression\n",
    "4. Decision Tree Regression\n",
    "5. Random Forest Regression\n",
    "\n",
    "For each model, we print the R^2 score and the feature importance. For linear models, we use the coef_ attribute to get the coefficients of the features"
   ]
  },
  {
   "cell_type": "code",
   "execution_count": 269,
   "metadata": {},
   "outputs": [
    {
     "name": "stdout",
     "output_type": "stream",
     "text": [
      "Linear Regression R^2 score: 0.3209131560717394\n",
      "Linear Regression feature importance:\n",
      "year               7.129448e+15\n",
      "age                7.129448e+15\n",
      "avg_brand_price    3.532325e+03\n",
      "transmission       2.684100e+03\n",
      "cylinders          2.651737e+03\n",
      "condition          8.434452e+02\n",
      "model              4.650752e+02\n",
      "type               2.446179e+01\n",
      "manufacturer       1.515499e+01\n",
      "state             -8.912676e+01\n",
      "region            -1.452867e+02\n",
      "size              -1.914143e+02\n",
      "drive             -2.606886e+02\n",
      "paint_color       -3.848736e+02\n",
      "title_status      -7.329362e+02\n",
      "odometer          -1.562759e+03\n",
      "fuel              -1.972244e+03\n",
      "dtype: float64\n",
      "Ridge Regression R^2 score: 0.32092567103089487\n",
      "Ridge Regression feature importance:\n",
      "avg_brand_price    3532.387890\n",
      "transmission       2683.109073\n",
      "cylinders          2652.314152\n",
      "year               2275.049883\n",
      "condition           843.278260\n",
      "model               465.287204\n",
      "type                 23.551896\n",
      "manufacturer         15.672668\n",
      "state               -88.079884\n",
      "region             -145.200770\n",
      "size               -191.979527\n",
      "drive              -259.620937\n",
      "paint_color        -383.893058\n",
      "title_status       -732.415455\n",
      "odometer          -1562.488668\n",
      "fuel              -1971.358085\n",
      "age               -2275.049895\n",
      "dtype: float64\n",
      "Lasso Regression R^2 score: 0.3209260000595884\n",
      "Lasso Regression feature importance:\n",
      "year               4736.367628\n",
      "avg_brand_price    3532.303714\n",
      "transmission       2683.026059\n",
      "cylinders          2652.252385\n",
      "condition           843.206362\n",
      "model               465.171056\n",
      "age                 186.127721\n",
      "type                 23.449910\n",
      "manufacturer         15.560607\n",
      "state               -87.964141\n",
      "region             -145.098099\n",
      "size               -191.902513\n",
      "drive              -259.549198\n",
      "paint_color        -383.761052\n",
      "title_status       -732.327307\n",
      "odometer          -1562.402694\n",
      "fuel              -1971.221040\n",
      "dtype: float64\n",
      "Decision Tree Regression R^2 score: 0.6748877475281914\n",
      "Decision Tree Regression feature importance:\n",
      "year               0.478442\n",
      "fuel               0.133332\n",
      "odometer           0.106272\n",
      "cylinders          0.105626\n",
      "avg_brand_price    0.075136\n",
      "age                0.021926\n",
      "drive              0.020029\n",
      "model              0.019733\n",
      "type               0.011550\n",
      "manufacturer       0.008503\n",
      "transmission       0.008052\n",
      "condition          0.005338\n",
      "state              0.001836\n",
      "paint_color        0.001649\n",
      "size               0.001330\n",
      "title_status       0.000820\n",
      "region             0.000428\n",
      "dtype: float64\n",
      "Random Forest Regression R^2 score: 0.7017439313809288\n",
      "Random Forest Regression feature importance:\n",
      "year               0.279399\n",
      "age                0.218594\n",
      "fuel               0.131094\n",
      "cylinders          0.107025\n",
      "odometer           0.106691\n",
      "avg_brand_price    0.072981\n",
      "model              0.020062\n",
      "drive              0.019584\n",
      "type               0.013310\n",
      "manufacturer       0.009614\n",
      "transmission       0.008360\n",
      "condition          0.005809\n",
      "state              0.001905\n",
      "size               0.001845\n",
      "paint_color        0.001836\n",
      "title_status       0.000972\n",
      "region             0.000917\n",
      "dtype: float64\n"
     ]
    }
   ],
   "source": [
    "import pandas as pd\n",
    "import numpy as np\n",
    "from sklearn.model_selection import train_test_split\n",
    "from sklearn.linear_model import LinearRegression, Ridge, Lasso\n",
    "from sklearn.tree import DecisionTreeRegressor\n",
    "from sklearn.ensemble import RandomForestRegressor\n",
    "from sklearn.metrics import r2_score\n",
    "\n",
    "\n",
    "# Linear Regression\n",
    "lr_model = LinearRegression()\n",
    "lr_model.fit(X_train, y_train)\n",
    "y_pred = lr_model.predict(X_test)\n",
    "r2 = r2_score(y_test, y_pred)\n",
    "print('Linear Regression R^2 score:', r2)\n",
    "print('Linear Regression feature importance:')\n",
    "print(pd.Series(lr_model.coef_, index=columns_).sort_values(ascending=False))\n",
    "\n",
    "# Ridge Regression\n",
    "ridge_model = Ridge(alpha=0.1)\n",
    "ridge_model.fit(X_train, y_train)\n",
    "y_pred = ridge_model.predict(X_test)\n",
    "r2 = r2_score(y_test, y_pred)\n",
    "print('Ridge Regression R^2 score:', r2)\n",
    "print('Ridge Regression feature importance:')\n",
    "print(pd.Series(ridge_model.coef_, index=columns_).sort_values(ascending=False))\n",
    "\n",
    "# Lasso Regression\n",
    "lasso_model = Lasso(alpha=0.1)\n",
    "lasso_model.fit(X_train, y_train)\n",
    "y_pred = lasso_model.predict(X_test)\n",
    "r2 = r2_score(y_test, y_pred)\n",
    "print('Lasso Regression R^2 score:', r2)\n",
    "print('Lasso Regression feature importance:')\n",
    "print(pd.Series(lasso_model.coef_, index=columns_).sort_values(ascending=False))\n",
    "\n",
    "# Decision Tree Regression\n",
    "dt_model = DecisionTreeRegressor(max_depth=10, random_state=42)\n",
    "dt_model.fit(X_train, y_train)\n",
    "y_pred = dt_model.predict(X_test)\n",
    "r2 = r2_score(y_test, y_pred)\n",
    "print('Decision Tree Regression R^2 score:', r2)\n",
    "print('Decision Tree Regression feature importance:')\n",
    "print(pd.Series(dt_model.feature_importances_, index=columns_).sort_values(ascending=False))\n",
    "\n",
    "# Random Forest Regression\n",
    "rf_model = RandomForestRegressor(n_estimators=100, max_depth=10, random_state=42)\n",
    "rf_model.fit(X_train, y_train)\n",
    "y_pred = rf_model.predict(X_test)\n",
    "r2 = r2_score(y_test, y_pred)\n",
    "print('Random Forest Regression R^2 score:', r2)\n",
    "print('Random Forest Regression feature importance:')\n",
    "print(pd.Series(rf_model.feature_importances_, index=columns_).sort_values(ascending=False))\n"
   ]
  },
  {
   "cell_type": "markdown",
   "metadata": {},
   "source": [
    "## Comaritive analysis\n",
    "\n",
    "From the output, we can see that Decision Tree Regression performs better than other regression models with an R^2 score of 0.67. The linear, Ridge, and Lasso regression models have similar R^2 scores with small differences.\n",
    "\n",
    "In terms of feature importance, the year/age of the car has the most impact on price for all models. Additionally, the brand's average price, transmission, and cylinder count also have a significant impact on price. However, the importance of other features differs depending on the model used. For example, the Decision Tree model considers fuel and odometer reading as significant features, while these are not considered as important in the linear, Ridge, and Lasso regression models.\n",
    "\n",
    "Therefore, we can conclude that different models consider different features as important in predicting used car prices. It is important to test multiple models and feature engineering techniques to achieve the best results."
   ]
  },
  {
   "cell_type": "markdown",
   "metadata": {},
   "source": [
    "### Evaluation\n",
    "\n",
    "With some modeling accomplished, we aim to reflect on what we identify as a high quality model and what we are able to learn from this.  We should review our business objective and explore how well we can provide meaningful insight on drivers of used car prices.  Your goal now is to distill your findings and determine whether the earlier phases need revisitation and adjustment or if you have information of value to bring back to your client."
   ]
  },
  {
   "cell_type": "markdown",
   "metadata": {},
   "source": [
    "Based on the analysis of the various regression models, we can conclude that the decision tree regression model performs better than the other regression models with an R-squared score of 0.675. The feature importance scores of the decision tree regression model also show that the year, fuel type, and odometer are the most important factors affecting used car prices.\n",
    "\n",
    "However, it is important to note that the other regression models still provide some valuable insights into the factors that affect used car prices. For instance, the linear regression model highlights the importance of the year and age of the car, while the ridge and lasso regression models emphasize the importance of the average brand price, transmission, and cylinder type.\n",
    "\n",
    "Overall, our findings suggest that the business objective of identifying the drivers of used car prices can be achieved by considering a range of factors including the year, age, fuel type, transmission, and cylinder type. It is also worth noting that the earlier phases of data exploration and preprocessing were crucial in ensuring the quality of the data and the accuracy of the models.\n",
    "\n",
    "Moving forward, we can recommend further analysis to explore the interactions between these factors and their impact on used car prices. We can also suggest revisiting the business objective to ensure that it is aligned with the insights gained from the regression models. Additionally, we can advise our client to consider incorporating more detailed data on car features and specifications to improve the accuracy of the models.\n",
    "\n",
    "\n"
   ]
  },
  {
   "cell_type": "markdown",
   "metadata": {},
   "source": [
    "### Deployment\n",
    "\n",
    "Now that we've settled on our models and findings, it is time to deliver the information to the client.  You should organize your work as a basic report that details your primary findings.  Keep in mind that your audience is a group of used car dealers interested in fine tuning their inventory."
   ]
  },
  {
   "cell_type": "markdown",
   "metadata": {},
   "source": [
    "## Report:\n",
    "\n",
    "### Introduction:\n",
    "We were tasked with building a model to predict used car prices for a group of used car dealers. Our goal was to identify the key drivers of used car prices and provide meaningful insights to the dealers.\n",
    "\n",
    "### Methodology:\n",
    "We began by exploring and cleaning the dataset. We removed null values and columns that were irrelevant to our analysis. We then conducted exploratory data analysis to identify any patterns or relationships in the data.\n",
    "\n",
    "Next, we built several regression models using different algorithms, including linear regression, ridge regression, lasso regression, and decision tree regression. We evaluated the performance of each model using R^2 scores and feature importance scores.\n",
    "\n",
    "### Findings:\n",
    "Our analysis revealed that the year of the car, mileage (odometer), average brand price, number of cylinders, and fuel type were the most significant drivers of used car prices. Our decision tree regression model performed the best with an R^2 score of 0.67, indicating that it was able to explain 67% of the variability in the data.\n",
    "\n",
    "### Recommendations:\n",
    "Based on our findings, we recommend that used car dealers pay close attention to the age of the cars they are buying and selling, as well as the mileage on the car. They should also consider the average price of the brand they are dealing with, the number of cylinders in the car, and the fuel type. These factors can greatly impact the price of a used car.\n",
    "\n",
    "### Conclusion:\n",
    "Overall, our analysis provides valuable insights into the drivers of used car prices. We believe that used car dealers can use this information to fine-tune their inventory and improve their sales.\n",
    "\n"
   ]
  }
 ],
 "metadata": {
  "kernelspec": {
   "display_name": "Python 3 (ipykernel)",
   "language": "python",
   "name": "python3"
  },
  "language_info": {
   "codemirror_mode": {
    "name": "ipython",
    "version": 3
   },
   "file_extension": ".py",
   "mimetype": "text/x-python",
   "name": "python",
   "nbconvert_exporter": "python",
   "pygments_lexer": "ipython3",
   "version": "3.9.13"
  },
  "widgets": {
   "application/vnd.jupyter.widget-state+json": {
    "state": {},
    "version_major": 2,
    "version_minor": 0
   }
  }
 },
 "nbformat": 4,
 "nbformat_minor": 4
}
